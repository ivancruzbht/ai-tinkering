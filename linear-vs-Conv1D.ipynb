{
 "cells": [
  {
   "cell_type": "code",
   "execution_count": 1,
   "metadata": {},
   "outputs": [
    {
     "name": "stdout",
     "output_type": "stream",
     "text": [
      "torch.Size([1, 4])\n",
      "tensor([[1., 2., 3., 4.]], grad_fn=<UnsqueezeBackward0>)\n",
      "True\n"
     ]
    }
   ],
   "source": [
    "import torch\n",
    "import torch.nn as nn\n",
    "\n",
    "\"\"\"\n",
    "Small code snippet for the equivalence between a linear layer and a convolutional layer with kernel_size=1.\n",
    "\n",
    "In some code bases I have seen that for the Q, K, V projection layers in the transformer\n",
    "the authors use a Conv1d layer with kernel_size=1 instead of a Linear layer. This is because the Conv1d layer\n",
    "adapts better to image data.\n",
    "\n",
    "So I had to convince myself that the Conv1d layer with kernel_size=1 is equivalent to a Linear layer.\n",
    "\"\"\"\n",
    "\n",
    "# Shape after unsqueeze: (batch_size=1, in_channels=4)\n",
    "x = torch.tensor([1.0, 2.0, 3.0, 4.0], requires_grad=True).unsqueeze(0)\n",
    "print(x.shape)\n",
    "print(x)\n",
    "\n",
    "embed_dim = 4\n",
    "\n",
    "# Conv1d layer with in_channels=embed_dim and out_channels=3*embed_dim\n",
    "qkv_proj_conv = nn.Conv1d(embed_dim, 3 * embed_dim, kernel_size=1, bias=False)\n",
    "qkv_proj_linear = nn.Linear(embed_dim, 3 * embed_dim, bias=False)\n",
    "\n",
    "# Copy weights and biases from linear layer to conv layer so that they are the same\n",
    "with torch.no_grad():\n",
    "    # Conv1d layer's weights need to be reshaped to (out_channels, in_channels, kernel_size)\n",
    "    qkv_proj_conv.weight.copy_(qkv_proj_linear.weight.view(3 * embed_dim, embed_dim, 1))\n",
    "\n",
    "# Apply the linear layer\n",
    "output_linear = qkv_proj_linear(x)  # Shape: (batch_size=1, out_features=12)\n",
    "\n",
    "# Apply the convolutional layer\n",
    "# Reshape input to (batch_size, in_channels, sequence_length) which is (1, 4, 1)\n",
    "x_conv = x.unsqueeze(-1)  # Shape: (1, 4, 1)\n",
    "output_conv = qkv_proj_conv(x_conv)  # Shape: (batch_size=1, out_channels=12, sequence_length=1)\n",
    "output_conv = output_conv.squeeze(-1)  # Shape: (batch_size=1, out_channels=12)\n",
    "\n",
    "# Check if the outputs are the same\n",
    "print(torch.allclose(output_linear, output_conv, atol=1e-6))"
   ]
  },
  {
   "cell_type": "code",
   "execution_count": null,
   "metadata": {},
   "outputs": [],
   "source": []
  }
 ],
 "metadata": {
  "kernelspec": {
   "display_name": "ai",
   "language": "python",
   "name": "python3"
  },
  "language_info": {
   "codemirror_mode": {
    "name": "ipython",
    "version": 3
   },
   "file_extension": ".py",
   "mimetype": "text/x-python",
   "name": "python",
   "nbconvert_exporter": "python",
   "pygments_lexer": "ipython3",
   "version": "3.9.18"
  }
 },
 "nbformat": 4,
 "nbformat_minor": 2
}
